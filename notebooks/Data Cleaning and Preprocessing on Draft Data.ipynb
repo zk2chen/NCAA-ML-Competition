{
 "cells": [
  {
   "cell_type": "markdown",
   "metadata": {},
   "source": [
    "# Data Cleaning/Preprocessing Draft Data"
   ]
  },
  {
   "cell_type": "code",
   "execution_count": 2,
   "metadata": {},
   "outputs": [],
   "source": [
    "# Importing required libraries\n",
    "import pandas as pd\n",
    "import numpy as np\n",
    "import os"
   ]
  },
  {
   "cell_type": "code",
   "execution_count": 5,
   "metadata": {},
   "outputs": [],
   "source": [
    "# Loading draft datasets\n",
    "draft85 = pd.read_pickle(r\"C:\\Users\\zhika\\Desktop\\NCAA_Data\\Stage2DataFiles\\draft_data\\draft1985.pkl\")\n",
    "draft86 = pd.read_pickle(r\"C:\\Users\\zhika\\Desktop\\NCAA_Data\\Stage2DataFiles\\draft_data\\draft1986.pkl\")\n",
    "draft87 = pd.read_pickle(r\"C:\\Users\\zhika\\Desktop\\NCAA_Data\\Stage2DataFiles\\draft_data\\draft1987.pkl\")\n",
    "draft88 = pd.read_pickle(r\"C:\\Users\\zhika\\Desktop\\NCAA_Data\\Stage2DataFiles\\draft_data\\draft1988.pkl\")\n",
    "draft89 = pd.read_pickle(r\"C:\\Users\\zhika\\Desktop\\NCAA_Data\\Stage2DataFiles\\draft_data\\draft1989.pkl\")\n",
    "draft90 = pd.read_pickle(r\"C:\\Users\\zhika\\Desktop\\NCAA_Data\\Stage2DataFiles\\draft_data\\draft1990.pkl\")\n",
    "draft91 = pd.read_pickle(r\"C:\\Users\\zhika\\Desktop\\NCAA_Data\\Stage2DataFiles\\draft_data\\draft1991.pkl\")\n",
    "draft92 = pd.read_pickle(r\"C:\\Users\\zhika\\Desktop\\NCAA_Data\\Stage2DataFiles\\draft_data\\draft1992.pkl\")\n",
    "draft93 = pd.read_pickle(r\"C:\\Users\\zhika\\Desktop\\NCAA_Data\\Stage2DataFiles\\draft_data\\draft1993.pkl\")\n",
    "draft94 = pd.read_pickle(r\"C:\\Users\\zhika\\Desktop\\NCAA_Data\\Stage2DataFiles\\draft_data\\draft1994.pkl\")\n",
    "draft95 = pd.read_pickle(r\"C:\\Users\\zhika\\Desktop\\NCAA_Data\\Stage2DataFiles\\draft_data\\draft1995.pkl\")\n",
    "draft96 = pd.read_pickle(r\"C:\\Users\\zhika\\Desktop\\NCAA_Data\\Stage2DataFiles\\draft_data\\draft1996.pkl\")\n",
    "draft97 = pd.read_pickle(r\"C:\\Users\\zhika\\Desktop\\NCAA_Data\\Stage2DataFiles\\draft_data\\draft1997.pkl\")\n",
    "draft98 = pd.read_pickle(r\"C:\\Users\\zhika\\Desktop\\NCAA_Data\\Stage2DataFiles\\draft_data\\draft1998.pkl\")\n",
    "draft99 = pd.read_pickle(r\"C:\\Users\\zhika\\Desktop\\NCAA_Data\\Stage2DataFiles\\draft_data\\draft1999.pkl\")\n",
    "draft00 = pd.read_pickle(r\"C:\\Users\\zhika\\Desktop\\NCAA_Data\\Stage2DataFiles\\draft_data\\draft2000.pkl\")\n",
    "draft01 = pd.read_pickle(r\"C:\\Users\\zhika\\Desktop\\NCAA_Data\\Stage2DataFiles\\draft_data\\draft2001.pkl\")\n",
    "draft02 = pd.read_pickle(r\"C:\\Users\\zhika\\Desktop\\NCAA_Data\\Stage2DataFiles\\draft_data\\draft2002.pkl\")\n",
    "draft03 = pd.read_pickle(r\"C:\\Users\\zhika\\Desktop\\NCAA_Data\\Stage2DataFiles\\draft_data\\draft2003.pkl\")\n",
    "draft04 = pd.read_pickle(r\"C:\\Users\\zhika\\Desktop\\NCAA_Data\\Stage2DataFiles\\draft_data\\draft2004.pkl\")\n",
    "draft05 = pd.read_pickle(r\"C:\\Users\\zhika\\Desktop\\NCAA_Data\\Stage2DataFiles\\draft_data\\draft2005.pkl\")\n",
    "draft06 = pd.read_pickle(r\"C:\\Users\\zhika\\Desktop\\NCAA_Data\\Stage2DataFiles\\draft_data\\draft2006.pkl\")\n",
    "draft07 = pd.read_pickle(r\"C:\\Users\\zhika\\Desktop\\NCAA_Data\\Stage2DataFiles\\draft_data\\draft2007.pkl\")\n",
    "draft08 = pd.read_pickle(r\"C:\\Users\\zhika\\Desktop\\NCAA_Data\\Stage2DataFiles\\draft_data\\draft2008.pkl\")\n",
    "draft09 = pd.read_pickle(r\"C:\\Users\\zhika\\Desktop\\NCAA_Data\\Stage2DataFiles\\draft_data\\draft2009.pkl\")\n",
    "draft10 = pd.read_pickle(r\"C:\\Users\\zhika\\Desktop\\NCAA_Data\\Stage2DataFiles\\draft_data\\draft2010.pkl\")\n",
    "draft11 = pd.read_pickle(r\"C:\\Users\\zhika\\Desktop\\NCAA_Data\\Stage2DataFiles\\draft_data\\draft2011.pkl\")\n",
    "draft12 = pd.read_pickle(r\"C:\\Users\\zhika\\Desktop\\NCAA_Data\\Stage2DataFiles\\draft_data\\draft2012.pkl\")\n",
    "draft13 = pd.read_pickle(r\"C:\\Users\\zhika\\Desktop\\NCAA_Data\\Stage2DataFiles\\draft_data\\draft2013.pkl\")\n",
    "draft14 = pd.read_pickle(r\"C:\\Users\\zhika\\Desktop\\NCAA_Data\\Stage2DataFiles\\draft_data\\draft2014.pkl\")\n",
    "draft15 = pd.read_pickle(r\"C:\\Users\\zhika\\Desktop\\NCAA_Data\\Stage2DataFiles\\draft_data\\draft2015.pkl\")\n",
    "draft16 = pd.read_pickle(r\"C:\\Users\\zhika\\Desktop\\NCAA_Data\\Stage2DataFiles\\draft_data\\draft2016.pkl\")\n",
    "draft17 = pd.read_pickle(r\"C:\\Users\\zhika\\Desktop\\NCAA_Data\\Stage2DataFiles\\draft_data\\draft2017.pkl\")\n",
    "draft18 = pd.read_pickle(r\"C:\\Users\\zhika\\Desktop\\NCAA_Data\\Stage2DataFiles\\draft_data\\draft2018.pkl\")"
   ]
  },
  {
   "cell_type": "code",
   "execution_count": 7,
   "metadata": {},
   "outputs": [],
   "source": [
    "# Combining the datasets\n",
    "datasets = [draft85, draft86, draft87, draft88, draft89, draft90, draft91, draft92,\n",
    "           draft93, draft94, draft95, draft96, draft97, draft98, draft99, draft00,\n",
    "           draft01, draft02, draft03, draft04, draft05, draft06, draft07, draft08,\n",
    "           draft09, draft10, draft11, draft11, draft12, draft13, draft14, draft15,\n",
    "           draft16, draft17, draft18]\n",
    "\n",
    "result = pd.concat(datasets)"
   ]
  },
  {
   "cell_type": "code",
   "execution_count": 9,
   "metadata": {},
   "outputs": [
    {
     "data": {
      "text/html": [
       "<div>\n",
       "<style scoped>\n",
       "    .dataframe tbody tr th:only-of-type {\n",
       "        vertical-align: middle;\n",
       "    }\n",
       "\n",
       "    .dataframe tbody tr th {\n",
       "        vertical-align: top;\n",
       "    }\n",
       "\n",
       "    .dataframe thead th {\n",
       "        text-align: right;\n",
       "    }\n",
       "</style>\n",
       "<table border=\"1\" class=\"dataframe\">\n",
       "  <thead>\n",
       "    <tr style=\"text-align: right;\">\n",
       "      <th></th>\n",
       "      <th>Pk</th>\n",
       "      <th>College</th>\n",
       "      <th>Season</th>\n",
       "      <th>num_drafted</th>\n",
       "      <th>best_college_player</th>\n",
       "    </tr>\n",
       "  </thead>\n",
       "  <tbody>\n",
       "    <tr>\n",
       "      <th>1</th>\n",
       "      <td>1</td>\n",
       "      <td>Georgetown</td>\n",
       "      <td>1985.0</td>\n",
       "      <td>2.0</td>\n",
       "      <td>1.0</td>\n",
       "    </tr>\n",
       "    <tr>\n",
       "      <th>2</th>\n",
       "      <td>2</td>\n",
       "      <td>Oklahoma</td>\n",
       "      <td>1985.0</td>\n",
       "      <td>1.0</td>\n",
       "      <td>0.0</td>\n",
       "    </tr>\n",
       "    <tr>\n",
       "      <th>3</th>\n",
       "      <td>3</td>\n",
       "      <td>Creighton</td>\n",
       "      <td>1985.0</td>\n",
       "      <td>1.0</td>\n",
       "      <td>0.0</td>\n",
       "    </tr>\n",
       "    <tr>\n",
       "      <th>4</th>\n",
       "      <td>4</td>\n",
       "      <td>Wichita State</td>\n",
       "      <td>1985.0</td>\n",
       "      <td>1.0</td>\n",
       "      <td>0.0</td>\n",
       "    </tr>\n",
       "    <tr>\n",
       "      <th>5</th>\n",
       "      <td>5</td>\n",
       "      <td>SMU</td>\n",
       "      <td>1985.0</td>\n",
       "      <td>1.0</td>\n",
       "      <td>0.0</td>\n",
       "    </tr>\n",
       "  </tbody>\n",
       "</table>\n",
       "</div>"
      ],
      "text/plain": [
       "  Pk        College  Season  num_drafted  best_college_player\n",
       "1  1     Georgetown  1985.0          2.0                  1.0\n",
       "2  2       Oklahoma  1985.0          1.0                  0.0\n",
       "3  3      Creighton  1985.0          1.0                  0.0\n",
       "4  4  Wichita State  1985.0          1.0                  0.0\n",
       "5  5            SMU  1985.0          1.0                  0.0"
      ]
     },
     "execution_count": 9,
     "metadata": {},
     "output_type": "execute_result"
    }
   ],
   "source": [
    "result.head()"
   ]
  },
  {
   "cell_type": "code",
   "execution_count": 10,
   "metadata": {},
   "outputs": [
    {
     "data": {
      "text/html": [
       "<div>\n",
       "<style scoped>\n",
       "    .dataframe tbody tr th:only-of-type {\n",
       "        vertical-align: middle;\n",
       "    }\n",
       "\n",
       "    .dataframe tbody tr th {\n",
       "        vertical-align: top;\n",
       "    }\n",
       "\n",
       "    .dataframe thead th {\n",
       "        text-align: right;\n",
       "    }\n",
       "</style>\n",
       "<table border=\"1\" class=\"dataframe\">\n",
       "  <thead>\n",
       "    <tr style=\"text-align: right;\">\n",
       "      <th></th>\n",
       "      <th>Pk</th>\n",
       "      <th>College</th>\n",
       "      <th>Season</th>\n",
       "      <th>num_drafted</th>\n",
       "      <th>best_college_player</th>\n",
       "    </tr>\n",
       "  </thead>\n",
       "  <tbody>\n",
       "    <tr>\n",
       "      <th>56</th>\n",
       "      <td>54</td>\n",
       "      <td>SMU</td>\n",
       "      <td>2018.0</td>\n",
       "      <td>1.0</td>\n",
       "      <td>0.0</td>\n",
       "    </tr>\n",
       "    <tr>\n",
       "      <th>58</th>\n",
       "      <td>56</td>\n",
       "      <td>Louisville</td>\n",
       "      <td>2018.0</td>\n",
       "      <td>1.0</td>\n",
       "      <td>0.0</td>\n",
       "    </tr>\n",
       "    <tr>\n",
       "      <th>60</th>\n",
       "      <td>58</td>\n",
       "      <td>UCLA</td>\n",
       "      <td>2018.0</td>\n",
       "      <td>2.0</td>\n",
       "      <td>0.0</td>\n",
       "    </tr>\n",
       "    <tr>\n",
       "      <th>61</th>\n",
       "      <td>59</td>\n",
       "      <td>Colorado</td>\n",
       "      <td>2018.0</td>\n",
       "      <td>1.0</td>\n",
       "      <td>0.0</td>\n",
       "    </tr>\n",
       "    <tr>\n",
       "      <th>62</th>\n",
       "      <td>60</td>\n",
       "      <td>Dayton</td>\n",
       "      <td>2018.0</td>\n",
       "      <td>1.0</td>\n",
       "      <td>0.0</td>\n",
       "    </tr>\n",
       "  </tbody>\n",
       "</table>\n",
       "</div>"
      ],
      "text/plain": [
       "    Pk     College  Season  num_drafted  best_college_player\n",
       "56  54         SMU  2018.0          1.0                  0.0\n",
       "58  56  Louisville  2018.0          1.0                  0.0\n",
       "60  58        UCLA  2018.0          2.0                  0.0\n",
       "61  59    Colorado  2018.0          1.0                  0.0\n",
       "62  60      Dayton  2018.0          1.0                  0.0"
      ]
     },
     "execution_count": 10,
     "metadata": {},
     "output_type": "execute_result"
    }
   ],
   "source": [
    "result.tail()"
   ]
  },
  {
   "cell_type": "code",
   "execution_count": 11,
   "metadata": {},
   "outputs": [],
   "source": [
    "result.drop(['Pk'], inplace = True, axis =  1)"
   ]
  },
  {
   "cell_type": "code",
   "execution_count": 12,
   "metadata": {},
   "outputs": [
    {
     "data": {
      "text/html": [
       "<div>\n",
       "<style scoped>\n",
       "    .dataframe tbody tr th:only-of-type {\n",
       "        vertical-align: middle;\n",
       "    }\n",
       "\n",
       "    .dataframe tbody tr th {\n",
       "        vertical-align: top;\n",
       "    }\n",
       "\n",
       "    .dataframe thead th {\n",
       "        text-align: right;\n",
       "    }\n",
       "</style>\n",
       "<table border=\"1\" class=\"dataframe\">\n",
       "  <thead>\n",
       "    <tr style=\"text-align: right;\">\n",
       "      <th></th>\n",
       "      <th>College</th>\n",
       "      <th>Season</th>\n",
       "      <th>num_drafted</th>\n",
       "      <th>best_college_player</th>\n",
       "    </tr>\n",
       "  </thead>\n",
       "  <tbody>\n",
       "    <tr>\n",
       "      <th>1</th>\n",
       "      <td>Georgetown</td>\n",
       "      <td>1985.0</td>\n",
       "      <td>2.0</td>\n",
       "      <td>1.0</td>\n",
       "    </tr>\n",
       "    <tr>\n",
       "      <th>2</th>\n",
       "      <td>Oklahoma</td>\n",
       "      <td>1985.0</td>\n",
       "      <td>1.0</td>\n",
       "      <td>0.0</td>\n",
       "    </tr>\n",
       "    <tr>\n",
       "      <th>3</th>\n",
       "      <td>Creighton</td>\n",
       "      <td>1985.0</td>\n",
       "      <td>1.0</td>\n",
       "      <td>0.0</td>\n",
       "    </tr>\n",
       "    <tr>\n",
       "      <th>4</th>\n",
       "      <td>Wichita State</td>\n",
       "      <td>1985.0</td>\n",
       "      <td>1.0</td>\n",
       "      <td>0.0</td>\n",
       "    </tr>\n",
       "    <tr>\n",
       "      <th>5</th>\n",
       "      <td>SMU</td>\n",
       "      <td>1985.0</td>\n",
       "      <td>1.0</td>\n",
       "      <td>0.0</td>\n",
       "    </tr>\n",
       "  </tbody>\n",
       "</table>\n",
       "</div>"
      ],
      "text/plain": [
       "         College  Season  num_drafted  best_college_player\n",
       "1     Georgetown  1985.0          2.0                  1.0\n",
       "2       Oklahoma  1985.0          1.0                  0.0\n",
       "3      Creighton  1985.0          1.0                  0.0\n",
       "4  Wichita State  1985.0          1.0                  0.0\n",
       "5            SMU  1985.0          1.0                  0.0"
      ]
     },
     "execution_count": 12,
     "metadata": {},
     "output_type": "execute_result"
    }
   ],
   "source": [
    "result.head()"
   ]
  },
  {
   "cell_type": "markdown",
   "metadata": {},
   "source": [
    "#### Checking to see if there are any incorrect entries in dataset"
   ]
  },
  {
   "cell_type": "code",
   "execution_count": 13,
   "metadata": {},
   "outputs": [],
   "source": [
    "colleges = result['College'].unique()"
   ]
  },
  {
   "cell_type": "code",
   "execution_count": 17,
   "metadata": {},
   "outputs": [
    {
     "ename": "TypeError",
     "evalue": "'<' not supported between instances of 'str' and 'float'",
     "output_type": "error",
     "traceback": [
      "\u001b[1;31m---------------------------------------------------------------------------\u001b[0m",
      "\u001b[1;31mTypeError\u001b[0m                                 Traceback (most recent call last)",
      "\u001b[1;32m<ipython-input-17-2011cc78079a>\u001b[0m in \u001b[0;36m<module>\u001b[1;34m\u001b[0m\n\u001b[1;32m----> 1\u001b[1;33m \u001b[0mcolleges\u001b[0m\u001b[1;33m.\u001b[0m\u001b[0msort\u001b[0m\u001b[1;33m(\u001b[0m\u001b[1;33m)\u001b[0m\u001b[1;33m\u001b[0m\u001b[1;33m\u001b[0m\u001b[0m\n\u001b[0m",
      "\u001b[1;31mTypeError\u001b[0m: '<' not supported between instances of 'str' and 'float'"
     ]
    }
   ],
   "source": [
    "colleges.sort()"
   ]
  },
  {
   "cell_type": "code",
   "execution_count": 21,
   "metadata": {},
   "outputs": [],
   "source": [
    "result['College'] = result['College'].astype(str)"
   ]
  },
  {
   "cell_type": "code",
   "execution_count": 22,
   "metadata": {},
   "outputs": [],
   "source": [
    "colleges = result['College'].unique()\n",
    "colleges.sort()"
   ]
  },
  {
   "cell_type": "code",
   "execution_count": 23,
   "metadata": {},
   "outputs": [
    {
     "data": {
      "text/plain": [
       "array(['Alabama', 'Alcorn State University',\n",
       "       'American International College', 'Arizona', 'Arizona State',\n",
       "       'Arkansas', 'Auburn', 'Auburn University at Montgomery',\n",
       "       'Augsburg College', 'Austin Peay State University', 'BYU',\n",
       "       'Ball State University', 'Barton County Community College',\n",
       "       'Baylor', 'Boise State', 'Boston College', 'Bowling Green',\n",
       "       'Bradley', 'Bucknell', 'Butler', 'Butler County Community College',\n",
       "       'Cal', 'Cal State Long Beach',\n",
       "       'California State University, Bakersfield',\n",
       "       'California State University, Fullerton', 'Canisius College',\n",
       "       'Central Connecticut State University', 'Central Florida',\n",
       "       'Central Michigan University', 'Central State University',\n",
       "       'Chattanooga', 'Christopher Newport University', 'Cincinnati',\n",
       "       'Clemson', 'Cleveland State University', 'Colgate University',\n",
       "       'College of Charleston', 'Colorado', 'Colorado State', 'Creighton',\n",
       "       'Dartmouth College', 'Davidson', 'Dayton', 'DePaul',\n",
       "       'Detroit Mercy', 'Drexel', 'Duke', 'Duquesne',\n",
       "       'East Carolina University', 'Eastern Illinois University',\n",
       "       'Eastern Michigan University', 'Eastern Washington University',\n",
       "       'Elizabeth City State University', 'Florida', 'Florida A&M',\n",
       "       'Florida State', 'Fresno State', 'George Mason University',\n",
       "       'George Washington', 'Georgetown', 'Georgia',\n",
       "       'Georgia Southern University', 'Georgia State University',\n",
       "       'Georgia Tech', 'Gonzaga', 'Green Bay', 'Hofstra', 'Houston',\n",
       "       'IUPUI', 'Illinois', 'Indian Hills Community College', 'Indiana',\n",
       "       'Iona College', 'Iowa', 'Iowa State', 'Jackson State University',\n",
       "       'Jacksonville University', 'Kansas', 'Kansas State', 'Kentucky',\n",
       "       'LSU', 'La Salle', 'Lehigh', 'Little Rock',\n",
       "       'Long Island University', 'Louisiana', 'Louisiana Tech',\n",
       "       'Louisville', 'Loyola Chicago', 'Loyola College in Maryland',\n",
       "       'Loyola Marymount University', 'Manhattan College',\n",
       "       'Marist College', 'Marquette', 'Marshall', 'Maryland',\n",
       "       'McNeese State University', 'Memphis', 'Mercer University',\n",
       "       'Miami (FL)', 'Miami University', 'Michigan', 'Michigan State',\n",
       "       'Middle Tennessee State University', 'Minnesota',\n",
       "       'Mississippi State', 'Mississippi Valley State University',\n",
       "       'Missouri', 'Missouri State', 'Missouri State University',\n",
       "       'Morehead State University', 'Murray State', 'NC State',\n",
       "       'Nebraska', 'Nevada', 'New Mexico', 'New Mexico State',\n",
       "       'Niagara University', 'Norfolk State',\n",
       "       'Northeast Mississippi Community College',\n",
       "       'Northeastern University', 'Northern Arizona University',\n",
       "       'Northwestern', 'Northwestern Oklahoma State University',\n",
       "       'Notre Dame', 'Oakland', 'Ohio State', 'Ohio University',\n",
       "       'Okaloosa-Walton Community College', 'Oklahoma', 'Oklahoma State',\n",
       "       'Old Dominion', 'Oral Roberts', 'Oregon', 'Oregon State',\n",
       "       'Penn State', 'Pepperdine', 'Phillips University', 'Pitt',\n",
       "       'Providence', 'Purdue', 'Rhode Island', 'Rice University',\n",
       "       'Rider University', 'Rutgers University', 'SMU',\n",
       "       'Saint Francis University', \"Saint Joseph's\",\n",
       "       'Saint Louis University', \"Saint Mary's\", 'San Diego State',\n",
       "       'San Jose State', 'Santa Clara University', 'Seton Hall',\n",
       "       'Seward County Community College', 'Shaw University',\n",
       "       'Slippery Rock University of Pennsylvania', 'South Carolina',\n",
       "       'South Dakota State University', 'Southeastern Illinois College',\n",
       "       'Southeastern Oklahoma State University', 'Southern Illinois',\n",
       "       'Southern University and A&M College', 'St. Bonaventure',\n",
       "       \"St. John's\", 'Stanford', 'Syracuse', 'TCU', 'Temple', 'Tennessee',\n",
       "       'Tennessee State', 'Tennessee Technological University', 'Texas',\n",
       "       'Texas A&M', 'Texas State University', 'Texas Tech',\n",
       "       'Texas-El Paso', 'Trenton State University',\n",
       "       'Trinity Valley Community College', 'Tulane', 'Tulsa', 'UCLA',\n",
       "       'UConn', 'UMass', 'UNC', 'UNC Charlotte', 'UNC Wilmington', 'UNLV',\n",
       "       'USC', 'United States Naval Academy',\n",
       "       'University of Alabama at Birmingham', 'University of Bridgeport',\n",
       "       'University of California, Irvine',\n",
       "       'University of California, Santa Barbara',\n",
       "       'University of Central Arkansas', 'University of Evansville',\n",
       "       'University of Hartford', 'University of Idaho',\n",
       "       'University of Illinois at Chicago',\n",
       "       'University of Louisiana at Monroe', 'University of Mississippi',\n",
       "       'University of Missouri-Kansas City', 'University of Montana',\n",
       "       'University of Nebraska at Kearney', 'University of New Orleans',\n",
       "       'University of North Dakota', 'University of North Texas',\n",
       "       'University of Pennsylvania', 'University of Richmond',\n",
       "       'University of South Alabama', 'University of South Florida',\n",
       "       'University of Southern Mississippi', 'University of Tampa',\n",
       "       'University of Tennessee at Martin',\n",
       "       'University of Texas at San Antonio', 'University of Toledo',\n",
       "       'University of West Florida',\n",
       "       'University of Wisconsin-Stevens Point',\n",
       "       'University of the Pacific', 'Utah', 'Valparaiso', 'Vanderbilt',\n",
       "       'Villanova', 'Virginia', 'Virginia Commonwealth', 'Virginia Tech',\n",
       "       'Virginia Union University', 'Wake Forest', 'Walsh University',\n",
       "       'Washington', 'Washington State', 'Weber State', 'West Virginia',\n",
       "       'West Virginia State University', 'Western Carolina University',\n",
       "       'Western Kentucky', 'Wichita State', 'Wisconsin',\n",
       "       'Wright State University', 'Wyoming', 'Xavier', 'Yale', 'nan'],\n",
       "      dtype=object)"
      ]
     },
     "execution_count": 23,
     "metadata": {},
     "output_type": "execute_result"
    }
   ],
   "source": [
    "colleges"
   ]
  },
  {
   "cell_type": "code",
   "execution_count": 26,
   "metadata": {},
   "outputs": [],
   "source": [
    "result.to_pickle('draft_results.pkl')"
   ]
  },
  {
   "cell_type": "code",
   "execution_count": null,
   "metadata": {},
   "outputs": [],
   "source": []
  }
 ],
 "metadata": {
  "kernelspec": {
   "display_name": "Python 3",
   "language": "python",
   "name": "python3"
  },
  "language_info": {
   "codemirror_mode": {
    "name": "ipython",
    "version": 3
   },
   "file_extension": ".py",
   "mimetype": "text/x-python",
   "name": "python",
   "nbconvert_exporter": "python",
   "pygments_lexer": "ipython3",
   "version": "3.7.1"
  }
 },
 "nbformat": 4,
 "nbformat_minor": 2
}
